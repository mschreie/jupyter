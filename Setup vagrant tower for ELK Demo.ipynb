{
 "cells": [
  {
   "cell_type": "markdown",
   "metadata": {},
   "source": [
    "The following box needs to be adjusted to your personal needs. \n",
    "HINT: Assure not to save /upload this file with the real credentials. This might introduce a security breach!"
   ]
  },
  {
   "cell_type": "code",
   "execution_count": 1,
   "metadata": {},
   "outputs": [],
   "source": [
    "basedir=projects\n",
    "project=elk-demo\n",
    "git_base=https://github.com/mschreie/\n",
    "local_privkeyfile=/Users/mschreie/projects/elk-demo/sshkey_elk-demo\n",
    "local_vagrantdir=/Users/mschreie/projects/vagrant_tower\n",
    "\n",
    "projectdir=$basedir/$project\n",
    "cd $local_vagrantdir"
   ]
  },
  {
   "cell_type": "markdown",
   "metadata": {},
   "source": [
    "First we install all missing packages to assure setup-scripts and ELK-Demo will work. I've taken this https://github.com/Homebrew/homebrew-core/issues/30172 as a main reference for missing packages. I've avoided pip and whent for EPEL packages, which worked so far."
   ]
  },
  {
   "cell_type": "code",
   "execution_count": 2,
   "metadata": {},
   "outputs": [
    {
     "name": "stdout",
     "output_type": "stream",
     "text": [
      "Loaded plugins: fastestmirror\n",
      "Determining fastest mirrors\n",
      " * base: ftp.uni-bayreuth.de\n",
      " * centos-sclo-rh: centos.mirror.net-d-sign.de\n",
      " * centos-sclo-sclo: ftp.halifax.rwth-aachen.de\n",
      " * extras: centos.mirror.net-d-sign.de\n",
      " * updates: ftp.halifax.rwth-aachen.de\n",
      "base                                                     | 3.6 kB     00:00     \n",
      "centos-sclo-rh                                           | 3.0 kB     00:00     \n",
      "centos-sclo-sclo                                         | 3.0 kB     00:00     \n",
      "extras                                                   | 2.9 kB     00:00     \n",
      "updates                                                  | 2.9 kB     00:00     \n",
      "(1/6): extras/7/x86_64/primary_db                          | 206 kB   00:01     \n",
      "(2/6): centos-sclo-sclo/x86_64/primary_db                  | 292 kB   00:01     \n",
      "(3/6): base/7/x86_64/group_gz                              | 153 kB   00:07     \n",
      "(4/6): centos-sclo-rh/x86_64/primary_db                    | 2.9 MB   00:18     \n",
      "(5/6): updates/7/x86_64/primary_db                         | 4.5 MB   00:26     \n",
      "(6/6): base/7/x86_64/primary_db                            | 6.1 MB   00:29     \n",
      "Package python-idna-2.4-1.el7.noarch already installed and latest version\n",
      "Package python2-pyasn1-0.1.9-7.el7.noarch already installed and latest version\n",
      "Package python-setuptools-0.9.8-7.el7.noarch already installed and latest version\n",
      "Resolving Dependencies\n",
      "--> Running transaction check\n",
      "---> Package python-chardet.noarch 0:2.2.1-3.el7 will be installed\n",
      "---> Package python-requests.noarch 0:2.6.0-9.el7_8 will be installed\n",
      "---> Package python-urllib3.noarch 0:1.10.2-7.el7 will be installed\n",
      "---> Package python2-pyasn1-modules.noarch 0:0.1.9-7.el7 will be installed\n",
      "---> Package sclo-python27-python-rsa.noarch 0:3.4.2-4.el7 will be installed\n",
      "--> Processing Dependency: python27-python(abi) = 2.7 for package: sclo-python27-python-rsa-3.4.2-4.el7.noarch\n",
      "--> Processing Dependency: /opt/rh/python27/root/usr/bin/python2 for package: sclo-python27-python-rsa-3.4.2-4.el7.noarch\n",
      "--> Processing Dependency: python27-python-pyasn1 for package: sclo-python27-python-rsa-3.4.2-4.el7.noarch\n",
      "--> Processing Dependency: python27-python-setuptools for package: sclo-python27-python-rsa-3.4.2-4.el7.noarch\n",
      "--> Processing Dependency: python27-runtime for package: sclo-python27-python-rsa-3.4.2-4.el7.noarch\n",
      "--> Running transaction check\n",
      "---> Package python27-python.x86_64 0:2.7.17-2.el7 will be installed\n",
      "--> Processing Dependency: python27-python-libs(x86-64) = 2.7.17-2.el7 for package: python27-python-2.7.17-2.el7.x86_64\n",
      "--> Processing Dependency: python27-python-pip for package: python27-python-2.7.17-2.el7.x86_64\n",
      "---> Package python27-python-setuptools.noarch 0:0.9.8-7.el7 will be installed\n",
      "---> Package python27-runtime.x86_64 0:1.1-26.1.el7 will be installed\n",
      "---> Package sclo-python27-python-pyasn1.noarch 0:0.2.3-2.el7 will be installed\n",
      "--> Running transaction check\n",
      "---> Package python27-python-libs.x86_64 0:2.7.17-2.el7 will be installed\n",
      "---> Package python27-python-pip.noarch 0:8.1.2-3.el7 will be installed\n",
      "Removing python-chardet.noarch 0:2.2.1-3.el7 - u due to obsoletes from installed python2-chardet-3.0.4-10.el7ar.noarch\n",
      "base/7/x86_64/filelists_db                               | 7.1 MB     00:15     \n",
      "--> Restarting Dependency Resolution with new changes.\n",
      "--> Running transaction check\n",
      "---> Package python-chardet.noarch 0:2.2.1-3.el7 will be installed\n",
      "--> Finished Dependency Resolution\n",
      "\n",
      "Dependencies Resolved\n",
      "\n",
      "================================================================================\n",
      " Package                      Arch    Version           Repository         Size\n",
      "================================================================================\n",
      "Installing:\n",
      " python-requests              noarch  2.6.0-9.el7_8     updates            94 k\n",
      " python-urllib3               noarch  1.10.2-7.el7      base              103 k\n",
      " python2-pyasn1-modules       noarch  0.1.9-7.el7       base               59 k\n",
      " sclo-python27-python-rsa     noarch  3.4.2-4.el7       centos-sclo-sclo   67 k\n",
      "Installing for dependencies:\n",
      " python27-python              x86_64  2.7.17-2.el7      centos-sclo-rh     87 k\n",
      " python27-python-libs         x86_64  2.7.17-2.el7      centos-sclo-rh    5.8 M\n",
      " python27-python-pip          noarch  8.1.2-3.el7       centos-sclo-rh    1.7 M\n",
      " python27-python-setuptools   noarch  0.9.8-7.el7       centos-sclo-rh    400 k\n",
      " python27-runtime             x86_64  1.1-26.1.el7      centos-sclo-rh    1.1 M\n",
      " sclo-python27-python-pyasn1  noarch  0.2.3-2.el7       centos-sclo-sclo  104 k\n",
      "\n",
      "Transaction Summary\n",
      "================================================================================\n",
      "Install  4 Packages (+6 Dependent packages)\n",
      "\n",
      "Total download size: 9.5 M\n",
      "Installed size: 36 M\n",
      "Downloading packages:\n",
      "(1/10): python-urllib3-1.10.2-7.el7.noarch.rpm             | 103 kB   00:00     \n",
      "(2/10): python2-pyasn1-modules-0.1.9-7.el7.noarch.rpm      |  59 kB   00:00     \n",
      "(3/10): python-requests-2.6.0-9.el7_8.noarch.rpm           |  94 kB   00:01     \n",
      "(4/10): python27-python-2.7.17-2.el7.x86_64.rpm            |  87 kB   00:02     \n",
      "(5/10): sclo-python27-python-pyasn1-0.2.3-2.el7.noarch.rpm | 104 kB   00:00     \n",
      "(6/10): sclo-python27-python-rsa-3.4.2-4.el7.noarch.rpm    |  67 kB   00:00     \n",
      "(7/10): python27-python-setuptools-0.9.8-7.el7.noarch.rpm  | 400 kB   00:03     \n",
      "(8/10): python27-runtime-1.1-26.1.el7.x86_64.rpm           | 1.1 MB   00:08     \n",
      "(9/10): python27-python-pip-8.1.2-3.el7.noarch.rpm         | 1.7 MB   00:10     \n",
      "(10/10): python27-python-libs-2.7.17-2.el7.x86_64.rpm      | 5.8 MB   00:20     \n",
      "--------------------------------------------------------------------------------\n",
      "Total                                              481 kB/s | 9.5 MB  00:20     \n",
      "Running transaction check\n",
      "Running transaction test\n",
      "Transaction test succeeded\n",
      "Running transaction\n",
      "  Installing : python27-runtime-1.1-26.1.el7.x86_64                        1/10 \n",
      "  Installing : python27-python-setuptools-0.9.8-7.el7.noarch               2/10 \n",
      "  Installing : python27-python-libs-2.7.17-2.el7.x86_64                    3/10 \n",
      "  Installing : python27-python-pip-8.1.2-3.el7.noarch                      4/10 \n",
      "  Installing : python27-python-2.7.17-2.el7.x86_64                         5/10 \n",
      "  Installing : sclo-python27-python-pyasn1-0.2.3-2.el7.noarch              6/10 \n",
      "  Installing : python-urllib3-1.10.2-7.el7.noarch                          7/10 \n",
      "  Installing : python-requests-2.6.0-9.el7_8.noarch                        8/10 \n",
      "  Installing : sclo-python27-python-rsa-3.4.2-4.el7.noarch                 9/10 \n",
      "  Installing : python2-pyasn1-modules-0.1.9-7.el7.noarch                  10/10 \n",
      "  Verifying  : python-urllib3-1.10.2-7.el7.noarch                          1/10 \n",
      "  Verifying  : python27-python-2.7.17-2.el7.x86_64                         2/10 \n",
      "  Verifying  : python2-pyasn1-modules-0.1.9-7.el7.noarch                   3/10 \n",
      "  Verifying  : python27-python-setuptools-0.9.8-7.el7.noarch               4/10 \n",
      "  Verifying  : python27-runtime-1.1-26.1.el7.x86_64                        5/10 \n",
      "  Verifying  : python27-python-libs-2.7.17-2.el7.x86_64                    6/10 \n",
      "  Verifying  : python-requests-2.6.0-9.el7_8.noarch                        7/10 \n",
      "  Verifying  : sclo-python27-python-rsa-3.4.2-4.el7.noarch                 8/10 \n",
      "  Verifying  : sclo-python27-python-pyasn1-0.2.3-2.el7.noarch              9/10 \n",
      "  Verifying  : python27-python-pip-8.1.2-3.el7.noarch                     10/10 \n",
      "\n",
      "Installed:\n",
      "  python-requests.noarch 0:2.6.0-9.el7_8                                        \n",
      "  python-urllib3.noarch 0:1.10.2-7.el7                                          \n",
      "  python2-pyasn1-modules.noarch 0:0.1.9-7.el7                                   \n",
      "  sclo-python27-python-rsa.noarch 0:3.4.2-4.el7                                 \n",
      "\n",
      "Dependency Installed:\n",
      "  python27-python.x86_64 0:2.7.17-2.el7                                         \n",
      "  python27-python-libs.x86_64 0:2.7.17-2.el7                                    \n",
      "  python27-python-pip.noarch 0:8.1.2-3.el7                                      \n",
      "  python27-python-setuptools.noarch 0:0.9.8-7.el7                               \n",
      "  python27-runtime.x86_64 0:1.1-26.1.el7                                        \n"
     ]
    },
    {
     "name": "stdout",
     "output_type": "stream",
     "text": [
      "  sclo-python27-python-pyasn1.noarch 0:0.2.3-2.el7                              \n",
      "\n",
      "Complete!\n",
      "Connection to 127.0.0.1 closed.\n"
     ]
    }
   ],
   "source": [
    "vagrant ssh -c \"sudo -i yum install -y python-requests python-chardet python-idna python2-pyasn1 python2-pyasn1-modules sclo-python27-python-rsa python-setuptools python-urllib3\""
   ]
  },
  {
   "cell_type": "code",
   "execution_count": 3,
   "metadata": {
    "scrolled": true
   },
   "outputs": [
    {
     "name": "stdout",
     "output_type": "stream",
     "text": [
      "Loaded plugins: fastestmirror\n",
      "epel-release-latest-7.noarch.rpm                         |  15 kB     00:00     \n",
      "Examining /var/tmp/yum-root-qFMKyp/epel-release-latest-7.noarch.rpm: epel-release-7-12.noarch\n",
      "Marking /var/tmp/yum-root-qFMKyp/epel-release-latest-7.noarch.rpm to be installed\n",
      "Resolving Dependencies\n",
      "--> Running transaction check\n",
      "---> Package epel-release.noarch 0:7-12 will be installed\n",
      "--> Finished Dependency Resolution\n",
      "\n",
      "Dependencies Resolved\n",
      "\n",
      "================================================================================\n",
      " Package          Arch       Version    Repository                         Size\n",
      "================================================================================\n",
      "Installing:\n",
      " \u001b[1mepel-release\u001b(B\u001b[m     noarch     7-12       /epel-release-latest-7.noarch      24 k\n",
      "\n",
      "Transaction Summary\n",
      "================================================================================\n",
      "Install  1 Package\n",
      "\n",
      "Total size: 24 k\n",
      "Installed size: 24 k\n",
      "Downloading packages:\n",
      "Running transaction check\n",
      "Running transaction test\n",
      "Transaction test succeeded\n",
      "Running transaction\n",
      "  Installing : epel-release-7-12.noarch                                     1/1 \n",
      "  Verifying  : epel-release-7-12.noarch                                     1/1 \n",
      "\n",
      "Installed:\n",
      "  epel-release.noarch 0:7-12                                                    \n",
      "\n",
      "Complete!\n",
      "Connection to 127.0.0.1 closed.\n"
     ]
    }
   ],
   "source": [
    "vagrant ssh -c \"sudo -i yum install -y https://dl.fedoraproject.org/pub/epel/epel-release-latest-7.noarch.rpm\""
   ]
  },
  {
   "cell_type": "code",
   "execution_count": 4,
   "metadata": {
    "scrolled": false
   },
   "outputs": [
    {
     "name": "stdout",
     "output_type": "stream",
     "text": [
      "Loaded plugins: fastestmirror\n",
      "Loading mirror speeds from cached hostfile\n",
      "epel/x86_64/metalink                                     |  29 kB     00:00     \n",
      " * base: ftp.uni-bayreuth.de\n",
      " * centos-sclo-rh: centos.mirror.net-d-sign.de\n",
      " * centos-sclo-sclo: ftp.halifax.rwth-aachen.de\n",
      " * epel: mirror.de.leaseweb.net\n",
      " * extras: centos.mirror.net-d-sign.de\n",
      " * updates: ftp.halifax.rwth-aachen.de\n",
      "epel                                                     | 4.7 kB     00:00     \n",
      "(1/3): epel/x86_64/group_gz                                |  95 kB   00:00     \n",
      "(2/3): epel/x86_64/updateinfo                              | 1.0 MB   00:05     \n",
      "(3/3): epel/x86_64/primary_db                              | 6.9 MB   00:17     \n",
      "Resolving Dependencies\n",
      "--> Running transaction check\n",
      "---> Package python-cachetools.noarch 0:1.0.3-1.el7 will be installed\n",
      "---> Package python2-ansible-tower-cli.noarch 0:3.3.9-1.el7 will be installed\n",
      "--> Processing Dependency: python-click for package: python2-ansible-tower-cli-3.3.9-1.el7.noarch\n",
      "--> Processing Dependency: python-colorama for package: python2-ansible-tower-cli-3.3.9-1.el7.noarch\n",
      "---> Package python2-certifi.noarch 0:2018.10.15-5.el7 will be installed\n",
      "---> Package python2-google-auth.noarch 1:1.1.1-5.el7 will be installed\n",
      "--> Processing Dependency: python2-rsa for package: 1:python2-google-auth-1.1.1-5.el7.noarch\n",
      "--> Processing Dependency: python2-six for package: 1:python2-google-auth-1.1.1-5.el7.noarch\n",
      "--> Running transaction check\n",
      "---> Package python-colorama.noarch 0:0.3.2-3.el7 will be installed\n",
      "---> Package python2-click.noarch 0:6.7-8.el7 will be installed\n",
      "---> Package python2-rsa.noarch 0:3.4.2-1.el7 will be installed\n",
      "---> Package python2-six.noarch 0:1.9.0-0.el7 will be installed\n",
      "--> Finished Dependency Resolution\n",
      "\n",
      "Dependencies Resolved\n",
      "\n",
      "================================================================================\n",
      " Package                       Arch       Version                Repository\n",
      "                                                                           Size\n",
      "================================================================================\n",
      "Installing:\n",
      " python-cachetools             noarch     1.0.3-1.el7            epel      22 k\n",
      " python2-ansible-tower-cli     noarch     3.3.9-1.el7            epel     209 k\n",
      " python2-certifi               noarch     2018.10.15-5.el7       epel      12 k\n",
      " python2-google-auth           noarch     1:1.1.1-5.el7          epel      76 k\n",
      "Installing for dependencies:\n",
      " python-colorama               noarch     0.3.2-3.el7            epel      24 k\n",
      " python2-click                 noarch     6.7-8.el7              epel     126 k\n",
      " python2-rsa                   noarch     3.4.2-1.el7            epel      68 k\n",
      " python2-six                   noarch     1.9.0-0.el7            epel     2.9 k\n",
      "\n",
      "Transaction Summary\n",
      "================================================================================\n",
      "Install  4 Packages (+4 Dependent packages)\n",
      "\n",
      "Total download size: 540 k\n",
      "Installed size: 2.1 M\n",
      "Downloading packages:\n",
      "warning: /var/cache/yum/x86_64/7/epel/packages/python-cachetools-1.0.3-1.el7.noarch.rpm: Header V3 RSA/SHA256 Signature, key ID 352c64e5: NOKEY\n",
      "Public key for python-cachetools-1.0.3-1.el7.noarch.rpm is not installed\n",
      "(1/8): python-cachetools-1.0.3-1.el7.noarch.rpm            |  22 kB   00:00     \n",
      "(2/8): python2-google-auth-1.1.1-5.el7.noarch.rpm          |  76 kB   00:00     \n",
      "(3/8): python2-rsa-3.4.2-1.el7.noarch.rpm                  |  68 kB   00:00     \n",
      "(4/8): python-colorama-0.3.2-3.el7.noarch.rpm              |  24 kB   00:00     \n",
      "(5/8): python2-six-1.9.0-0.el7.noarch.rpm                  | 2.9 kB   00:00     \n",
      "(6/8): python2-click-6.7-8.el7.noarch.rpm                  | 126 kB   00:01     \n",
      "(7/8): python2-ansible-tower-cli-3.3.9-1.el7.noarch.rpm    | 209 kB   00:01     \n",
      "(8/8): python2-certifi-2018.10.15-5.el7.noarch.rpm         |  12 kB   00:10     \n",
      "--------------------------------------------------------------------------------\n",
      "Total                                               49 kB/s | 540 kB  00:11     \n",
      "Retrieving key from file:///etc/pki/rpm-gpg/RPM-GPG-KEY-EPEL-7\n",
      "Importing GPG key 0x352C64E5:\n",
      " Userid     : \"Fedora EPEL (7) <epel@fedoraproject.org>\"\n",
      " Fingerprint: 91e9 7d7c 4a5e 96f1 7f3e 888f 6a2f aea2 352c 64e5\n",
      " Package    : epel-release-7-12.noarch (@/epel-release-latest-7.noarch)\n",
      " From       : /etc/pki/rpm-gpg/RPM-GPG-KEY-EPEL-7\n",
      "Running transaction check\n",
      "Running transaction test\n",
      "Transaction test succeeded\n",
      "Running transaction\n",
      "  Installing : python2-click-6.7-8.el7.noarch                               1/8 \n",
      "  Installing : python-colorama-0.3.2-3.el7.noarch                           2/8 \n",
      "  Installing : python-cachetools-1.0.3-1.el7.noarch                         3/8 \n",
      "  Installing : python2-six-1.9.0-0.el7.noarch                               4/8 \n",
      "  Installing : python2-rsa-3.4.2-1.el7.noarch                               5/8 \n",
      "  Installing : 1:python2-google-auth-1.1.1-5.el7.noarch                     6/8 \n",
      "  Installing : python2-ansible-tower-cli-3.3.9-1.el7.noarch                 7/8 \n",
      "  Installing : python2-certifi-2018.10.15-5.el7.noarch                      8/8 \n",
      "  Verifying  : python2-rsa-3.4.2-1.el7.noarch                               1/8 \n",
      "  Verifying  : python2-ansible-tower-cli-3.3.9-1.el7.noarch                 2/8 \n",
      "  Verifying  : python2-six-1.9.0-0.el7.noarch                               3/8 \n",
      "  Verifying  : python-cachetools-1.0.3-1.el7.noarch                         4/8 \n",
      "  Verifying  : 1:python2-google-auth-1.1.1-5.el7.noarch                     5/8 \n",
      "  Verifying  : python2-certifi-2018.10.15-5.el7.noarch                      6/8 \n",
      "  Verifying  : python-colorama-0.3.2-3.el7.noarch                           7/8 \n",
      "  Verifying  : python2-click-6.7-8.el7.noarch                               8/8 \n",
      "\n",
      "Installed:\n",
      "  python-cachetools.noarch 0:1.0.3-1.el7                                        \n",
      "  python2-ansible-tower-cli.noarch 0:3.3.9-1.el7                                \n",
      "  python2-certifi.noarch 0:2018.10.15-5.el7                                     \n",
      "  python2-google-auth.noarch 1:1.1.1-5.el7                                      \n",
      "\n",
      "Dependency Installed:\n",
      "  python-colorama.noarch 0:0.3.2-3.el7     python2-click.noarch 0:6.7-8.el7    \n",
      "  python2-rsa.noarch 0:3.4.2-1.el7         python2-six.noarch 0:1.9.0-0.el7    \n",
      "\n",
      "Complete!\n",
      "Connection to 127.0.0.1 closed.\n"
     ]
    }
   ],
   "source": [
    "vagrant ssh -c \"sudo -i yum install -y python-cachetools python2-certifi python2-google-auth python2-ansible-tower-cli\""
   ]
  },
  {
   "cell_type": "markdown",
   "metadata": {},
   "source": [
    "I was pointed to awx-collection to set up Tower via Ansible CMD-Line:\n",
    "https://galaxy.ansible.com/awx/awx"
   ]
  },
  {
   "cell_type": "code",
   "execution_count": 5,
   "metadata": {},
   "outputs": [
    {
     "name": "stdout",
     "output_type": "stream",
     "text": [
      "Process install dependency map\n",
      "Starting collection install process\n",
      "Installing 'awx.awx:14.1.0' to '/home/vagrant/.ansible/collections/ansible_collections/awx/awx'\n",
      "Connection to 127.0.0.1 closed.\n"
     ]
    }
   ],
   "source": [
    "vagrant ssh -c \"ansible-galaxy collection install awx.awx\""
   ]
  },
  {
   "cell_type": "code",
   "execution_count": 6,
   "metadata": {},
   "outputs": [
    {
     "name": "stdout",
     "output_type": "stream",
     "text": [
      "mkdir: cannot create directory ‘projects’: File exists\n",
      "Connection to 127.0.0.1 closed.\n"
     ]
    },
    {
     "ename": "",
     "evalue": "1",
     "output_type": "error",
     "traceback": []
    }
   ],
   "source": [
    "vagrant ssh -c \"mkdir $basedir\""
   ]
  },
  {
   "cell_type": "markdown",
   "metadata": {},
   "source": [
    "We clone the elk-demo-setup repository. The scripts provided there will setup Ansible Tower ready to run the ELK-Demo (togehter with this document)."
   ]
  },
  {
   "cell_type": "code",
   "execution_count": 6,
   "metadata": {},
   "outputs": [
    {
     "name": "stdout",
     "output_type": "stream",
     "text": [
      "Cloning into 'elk-demo-setup'...\n",
      "remote: Enumerating objects: 20, done.\u001b[K\n",
      "remote: Counting objects: 100% (20/20), done.\u001b[K\n",
      "remote: Compressing objects: 100% (15/15), done.\u001b[K\n",
      "remote: Total 20 (delta 3), reused 17 (delta 3), pack-reused 0\u001b[K\n",
      "Unpacking objects: 100% (20/20), done.\n",
      "Connection to 127.0.0.1 closed.\n"
     ]
    }
   ],
   "source": [
    "vagrant ssh -c \"cd $basedir && git clone https://github.com/mschreie/elk-demo-setup\""
   ]
  },
  {
   "cell_type": "markdown",
   "metadata": {},
   "source": [
    "We need to ssh to our vagrant Tower Bo to run some Ansible scripts localy: \n",
    "\n",
    "cd /Users/mschreie/projects/vagrant_tower\n",
    "vagrant ssh\n",
    "\n",
    "Within vagrant Tower CLI:\n",
    "\n",
    "cd projects/elk-demo-setup/ansible/\n",
    "\n",
    "\n",
    "HINT: for the next steps to work, you need to \n",
    "a) have ssh-keys set up for GitHub within files/\n",
    "files/ssh_github_key  files/ssh_github_key.pub\n",
    "b) have the credentials file set up correctly (see example file for reference)\n",
    "group_vars/all/credentials.yml  group_vars/all/credentials.yml_example\n",
    "c) have private ssh-key-file and credentials file encrypted with ansible-vault (and the same vault-passphrase)\n",
    "\n",
    "\n",
    "ansible-playbook --ask-vault-pass 020_setup-git_credential.yml \n",
    "ansible-playbook --ask-vault-pass 030_setup-elk-demo.yml\n",
    "\n",
    "\n"
   ]
  },
  {
   "cell_type": "markdown",
   "metadata": {},
   "source": [
    "We clone the elk-demo project to a local directory. Maybe this is not used later. as Tower should be the one cloning this."
   ]
  },
  {
   "cell_type": "code",
   "execution_count": 6,
   "metadata": {},
   "outputs": [
    {
     "name": "stdout",
     "output_type": "stream",
     "text": [
      "Cloning into 'elk-demo'...\n",
      "remote: Enumerating objects: 75, done.\u001b[K\n",
      "remote: Counting objects: 100% (75/75), done.\u001b[K\n",
      "remote: Compressing objects: 100% (49/49), done.\u001b[K\n",
      "remote: Total 75 (delta 5), reused 73 (delta 3), pack-reused 0\u001b[K\n",
      "Unpacking objects: 100% (75/75), done.\n",
      "Connection to 127.0.0.1 closed.\n"
     ]
    }
   ],
   "source": [
    "vagrant ssh -c \"cd $basedir && git clone https://github.com/mschreie/elk-demo\""
   ]
  },
  {
   "cell_type": "code",
   "execution_count": 7,
   "metadata": {},
   "outputs": [
    {
     "name": "stdout",
     "output_type": "stream",
     "text": [
      "Connection to 127.0.0.1 closed.\n",
      "Warning: Permanently added '[127.0.0.1]:2222' (ECDSA) to the list of known hosts.\n",
      "sshkey_elk-demo                               100% 2635     1.7MB/s   00:00    \n"
     ]
    }
   ],
   "source": [
    "vagrant ssh -c \"cd $projectdir && echo sshkey_elk-demo >> .git/info/exclude\"\n",
    "vagrant scp $local_privkeyfile :$projectdir/sshkey_elk-demo"
   ]
  },
  {
   "cell_type": "markdown",
   "metadata": {},
   "source": [
    "TODO: Automate this step. Get off from Web-UI.\n",
    "\n",
    "We are now uploading the GCE Service Account Data into Ansible Tower: \n",
    "\n",
    "see for details: https://developers.redhat.com/blog/2020/05/06/using-ansible-to-automate-google-cloud-platform/ \n",
    "\n"
   ]
  },
  {
   "cell_type": "code",
   "execution_count": null,
   "metadata": {},
   "outputs": [],
   "source": []
  }
 ],
 "metadata": {
  "kernelspec": {
   "display_name": "Bash",
   "language": "bash",
   "name": "bash"
  },
  "language_info": {
   "codemirror_mode": "shell",
   "file_extension": ".sh",
   "mimetype": "text/x-sh",
   "name": "bash"
  }
 },
 "nbformat": 4,
 "nbformat_minor": 4
}
