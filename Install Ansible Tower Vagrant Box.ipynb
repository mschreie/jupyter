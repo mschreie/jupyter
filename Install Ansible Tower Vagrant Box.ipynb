{
 "cells": [
  {
   "cell_type": "markdown",
   "metadata": {},
   "source": [
    "This Notebook sets up an Ansbile Tower for personal use via Vagrant Box and uploads a lisence as well as changes the admin password as you please."
   ]
  },
  {
   "cell_type": "markdown",
   "metadata": {},
   "source": [
    "you first need to define some settings\n",
    "* vagrant_dir\n",
    "the vagrant dir is the directory in which you will have your vagrant file and from which you start your vagrant box\n",
    "* license_file\n",
    "the full path to the lisence file which will be uploaded\n",
    "* new_password\n",
    "the new admin password which will be set for Tower"
   ]
  },
  {
   "cell_type": "code",
   "execution_count": null,
   "metadata": {},
   "outputs": [],
   "source": [
    "vagrant_dir=/Users/mschreie/projects/vagrant_tower\n",
    "license_file=/Users/mschreie/Downloads/license_4ab5449a6fd2475eb7000d300fb056ba.txt\n",
    "new_password=redhat"
   ]
  },
  {
   "cell_type": "code",
   "execution_count": null,
   "metadata": {},
   "outputs": [],
   "source": [
    "mkdir $vagrant_dir"
   ]
  },
  {
   "cell_type": "code",
   "execution_count": null,
   "metadata": {},
   "outputs": [],
   "source": [
    "cd $vagrant_dir"
   ]
  },
  {
   "cell_type": "code",
   "execution_count": null,
   "metadata": {},
   "outputs": [],
   "source": [
    "vagrant init ansible/tower"
   ]
  },
  {
   "cell_type": "code",
   "execution_count": null,
   "metadata": {},
   "outputs": [],
   "source": [
    "vagrant up"
   ]
  },
  {
   "cell_type": "markdown",
   "metadata": {},
   "source": [
    "You need to get a lisence from:\n",
    "- for RH internal people: https://store.ansible.com/redhat/tower_license/\n",
    "- for anyone else: https://www.ansible.com/tower-trial\n",
    "and let the variable \"license_file point to the file downloaded. I also find username and password from within the vagrant-tower box and store it in the respective variables."
   ]
  },
  {
   "cell_type": "code",
   "execution_count": null,
   "metadata": {},
   "outputs": [],
   "source": [
    "user=$(vagrant ssh -c  \"bash /etc/profile.d/ansible-tower.sh\" 2>/dev/null | awk '/Username:/ {print $2 }' | tr -d '\\r')\n",
    "password=$(vagrant ssh -c  \"bash /etc/profile.d/ansible-tower.sh\" 2>/dev/null | awk '/Password:/ {print $2 }' | tr -d '\\r')"
   ]
  },
  {
   "cell_type": "markdown",
   "metadata": {},
   "source": [
    "just for the sake of knowing what's going on it is good to see all variables are set up correctly.\n",
    "HINT: Maybe don't save the notebook (or upload into git) without clearing the results of the commands, otherwise you would run into a password breach. \n",
    "Maybe just skip this box."
   ]
  },
  {
   "cell_type": "code",
   "execution_count": null,
   "metadata": {},
   "outputs": [],
   "source": [
    "pwd\n",
    "echo $license_file\n",
    "echo $user\n",
    "echo $password"
   ]
  },
  {
   "cell_type": "markdown",
   "metadata": {},
   "source": [
    "Now upload the lisence file to Ansible Tower"
   ]
  },
  {
   "cell_type": "code",
   "execution_count": null,
   "metadata": {},
   "outputs": [],
   "source": [
    "curl --user $user:$password --insecure -H \"Content-Type: application/json\" -X POST -d \"$(cat $license_file | sed -e '2i\\\n",
    "\\    \"eula_accepted\": \"true\",')\" https://10.42.0.42/api/v2/config/"
   ]
  },
  {
   "cell_type": "markdown",
   "metadata": {},
   "source": [
    "You need to log off, otherwise you might run into issues, that logging in won't work as expected."
   ]
  },
  {
   "cell_type": "code",
   "execution_count": null,
   "metadata": {},
   "outputs": [],
   "source": [
    "curl --insecure -H \"Content-Type: application/json\" -X GET https://10.42.0.42/api/logout/?next=/api/login/"
   ]
  },
  {
   "cell_type": "markdown",
   "metadata": {},
   "source": [
    "To change the admin password to $new_password i do the following"
   ]
  },
  {
   "cell_type": "code",
   "execution_count": null,
   "metadata": {},
   "outputs": [],
   "source": [
    "vagrant ssh -c \"echo \\\"from django.contrib.auth.models import User; passwd='$new_password'; usr=User.objects.get(username='admin'); usr.set_password(passwd); usr.save();\\\" | sudo -i awx-manage shell\"\n"
   ]
  },
  {
   "cell_type": "code",
   "execution_count": null,
   "metadata": {},
   "outputs": [],
   "source": []
  }
 ],
 "metadata": {
  "kernelspec": {
   "display_name": "Bash",
   "language": "bash",
   "name": "bash"
  },
  "language_info": {
   "codemirror_mode": "shell",
   "file_extension": ".sh",
   "mimetype": "text/x-sh",
   "name": "bash"
  }
 },
 "nbformat": 4,
 "nbformat_minor": 4
}
